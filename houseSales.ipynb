{
 "cells": [
  {
   "cell_type": "markdown",
   "metadata": {},
   "source": [
    "# House Property Sales Predict(Time Series)\n",
    "\n",
    "[Data Source](https://www.kaggle.com/deltacrot/property-sales)"
   ]
  },
  {
   "cell_type": "code",
   "execution_count": 16,
   "metadata": {},
   "outputs": [],
   "source": [
    "import pandas as pd\n",
    "import altair as alt"
   ]
  },
  {
   "cell_type": "code",
   "execution_count": 22,
   "metadata": {},
   "outputs": [
    {
     "data": {
      "text/html": [
       "<div>\n",
       "<style scoped>\n",
       "    .dataframe tbody tr th:only-of-type {\n",
       "        vertical-align: middle;\n",
       "    }\n",
       "\n",
       "    .dataframe tbody tr th {\n",
       "        vertical-align: top;\n",
       "    }\n",
       "\n",
       "    .dataframe thead th {\n",
       "        text-align: right;\n",
       "    }\n",
       "</style>\n",
       "<table border=\"1\" class=\"dataframe\">\n",
       "  <thead>\n",
       "    <tr style=\"text-align: right;\">\n",
       "      <th></th>\n",
       "      <th>saledate</th>\n",
       "      <th>MA</th>\n",
       "      <th>type</th>\n",
       "      <th>bedrooms</th>\n",
       "    </tr>\n",
       "  </thead>\n",
       "  <tbody>\n",
       "    <tr>\n",
       "      <th>0</th>\n",
       "      <td>2007-09-30</td>\n",
       "      <td>441854</td>\n",
       "      <td>house</td>\n",
       "      <td>2</td>\n",
       "    </tr>\n",
       "    <tr>\n",
       "      <th>1</th>\n",
       "      <td>2007-12-31</td>\n",
       "      <td>441854</td>\n",
       "      <td>house</td>\n",
       "      <td>2</td>\n",
       "    </tr>\n",
       "    <tr>\n",
       "      <th>2</th>\n",
       "      <td>2008-03-31</td>\n",
       "      <td>441854</td>\n",
       "      <td>house</td>\n",
       "      <td>2</td>\n",
       "    </tr>\n",
       "    <tr>\n",
       "      <th>3</th>\n",
       "      <td>2008-06-30</td>\n",
       "      <td>441854</td>\n",
       "      <td>house</td>\n",
       "      <td>2</td>\n",
       "    </tr>\n",
       "    <tr>\n",
       "      <th>4</th>\n",
       "      <td>2008-09-30</td>\n",
       "      <td>451583</td>\n",
       "      <td>house</td>\n",
       "      <td>2</td>\n",
       "    </tr>\n",
       "    <tr>\n",
       "      <th>...</th>\n",
       "      <td>...</td>\n",
       "      <td>...</td>\n",
       "      <td>...</td>\n",
       "      <td>...</td>\n",
       "    </tr>\n",
       "    <tr>\n",
       "      <th>342</th>\n",
       "      <td>2018-09-30</td>\n",
       "      <td>603281</td>\n",
       "      <td>unit</td>\n",
       "      <td>3</td>\n",
       "    </tr>\n",
       "    <tr>\n",
       "      <th>343</th>\n",
       "      <td>2018-12-31</td>\n",
       "      <td>601167</td>\n",
       "      <td>unit</td>\n",
       "      <td>3</td>\n",
       "    </tr>\n",
       "    <tr>\n",
       "      <th>344</th>\n",
       "      <td>2019-03-31</td>\n",
       "      <td>605637</td>\n",
       "      <td>unit</td>\n",
       "      <td>3</td>\n",
       "    </tr>\n",
       "    <tr>\n",
       "      <th>345</th>\n",
       "      <td>2019-06-30</td>\n",
       "      <td>599339</td>\n",
       "      <td>unit</td>\n",
       "      <td>3</td>\n",
       "    </tr>\n",
       "    <tr>\n",
       "      <th>346</th>\n",
       "      <td>2019-09-30</td>\n",
       "      <td>597884</td>\n",
       "      <td>unit</td>\n",
       "      <td>3</td>\n",
       "    </tr>\n",
       "  </tbody>\n",
       "</table>\n",
       "<p>347 rows × 4 columns</p>\n",
       "</div>"
      ],
      "text/plain": [
       "      saledate      MA   type  bedrooms\n",
       "0   2007-09-30  441854  house         2\n",
       "1   2007-12-31  441854  house         2\n",
       "2   2008-03-31  441854  house         2\n",
       "3   2008-06-30  441854  house         2\n",
       "4   2008-09-30  451583  house         2\n",
       "..         ...     ...    ...       ...\n",
       "342 2018-09-30  603281   unit         3\n",
       "343 2018-12-31  601167   unit         3\n",
       "344 2019-03-31  605637   unit         3\n",
       "345 2019-06-30  599339   unit         3\n",
       "346 2019-09-30  597884   unit         3\n",
       "\n",
       "[347 rows x 4 columns]"
      ]
     },
     "execution_count": 22,
     "metadata": {},
     "output_type": "execute_result"
    }
   ],
   "source": [
    "def getData():\n",
    "    filepath = \"data/property-sales/ma_lga_12345.csv\"\n",
    "    df = pd.read_csv(filepath)\n",
    "    return df\n",
    "df = getData()\n",
    "\n",
    "df[\"saledate\"] = pd.to_datetime(df[\"saledate\"])\n",
    "df"
   ]
  },
  {
   "cell_type": "code",
   "execution_count": 28,
   "metadata": {},
   "outputs": [
    {
     "data": {
      "text/html": [
       "\n",
       "<div id=\"altair-viz-72475e2fc5ee478cb5c2434425c40447\"></div>\n",
       "<script type=\"text/javascript\">\n",
       "  (function(spec, embedOpt){\n",
       "    const outputDiv = document.getElementById(\"altair-viz-72475e2fc5ee478cb5c2434425c40447\");\n",
       "    const paths = {\n",
       "      \"vega\": \"https://cdn.jsdelivr.net/npm//vega@5?noext\",\n",
       "      \"vega-lib\": \"https://cdn.jsdelivr.net/npm//vega-lib?noext\",\n",
       "      \"vega-lite\": \"https://cdn.jsdelivr.net/npm//vega-lite@4.0.2?noext\",\n",
       "      \"vega-embed\": \"https://cdn.jsdelivr.net/npm//vega-embed@6?noext\",\n",
       "    };\n",
       "\n",
       "    function loadScript(lib) {\n",
       "      return new Promise(function(resolve, reject) {\n",
       "        var s = document.createElement('script');\n",
       "        s.src = paths[lib];\n",
       "        s.async = true;\n",
       "        s.onload = () => resolve(paths[lib]);\n",
       "        s.onerror = () => reject(`Error loading script: ${paths[lib]}`);\n",
       "        document.getElementsByTagName(\"head\")[0].appendChild(s);\n",
       "      });\n",
       "    }\n",
       "\n",
       "    function showError(err) {\n",
       "      outputDiv.innerHTML = `<div class=\"error\" style=\"color:red;\">${err}</div>`;\n",
       "      throw err;\n",
       "    }\n",
       "\n",
       "    function displayChart(vegaEmbed) {\n",
       "      vegaEmbed(outputDiv, spec, embedOpt)\n",
       "        .catch(err => showError(`Javascript Error: ${err.message}<br>This usually means there's a typo in your chart specification. See the javascript console for the full traceback.`));\n",
       "    }\n",
       "\n",
       "    if(typeof define === \"function\" && define.amd) {\n",
       "      requirejs.config({paths});\n",
       "      require([\"vega-embed\"], displayChart, err => showError(`Error loading script: ${err.message}`));\n",
       "    } else if (typeof vegaEmbed === \"function\") {\n",
       "      displayChart(vegaEmbed);\n",
       "    } else {\n",
       "      loadScript(\"vega\")\n",
       "        .then(() => loadScript(\"vega-lite\"))\n",
       "        .then(() => loadScript(\"vega-embed\"))\n",
       "        .catch(showError)\n",
       "        .then(() => displayChart(vegaEmbed));\n",
       "    }\n",
       "  })({\"config\": {\"view\": {\"continuousWidth\": 400, \"continuousHeight\": 300}}, \"data\": {\"name\": \"data-569fc0b44f142a1ade77f3ab547d5c7a\"}, \"facet\": {\"column\": {\"type\": \"nominal\", \"field\": \"type\"}}, \"spec\": {\"mark\": \"line\", \"encoding\": {\"color\": {\"type\": \"ordinal\", \"field\": \"bedrooms\"}, \"x\": {\"type\": \"temporal\", \"field\": \"saledate\"}, \"y\": {\"type\": \"quantitative\", \"field\": \"MA\"}}}, \"$schema\": \"https://vega.github.io/schema/vega-lite/v4.0.2.json\", \"datasets\": {\"data-569fc0b44f142a1ade77f3ab547d5c7a\": [{\"saledate\": \"2007-09-30T00:00:00\", \"MA\": 441854, \"type\": \"house\", \"bedrooms\": 2}, {\"saledate\": \"2007-12-31T00:00:00\", \"MA\": 441854, \"type\": \"house\", \"bedrooms\": 2}, {\"saledate\": \"2008-03-31T00:00:00\", \"MA\": 441854, \"type\": \"house\", \"bedrooms\": 2}, {\"saledate\": \"2008-06-30T00:00:00\", \"MA\": 441854, \"type\": \"house\", \"bedrooms\": 2}, {\"saledate\": \"2008-09-30T00:00:00\", \"MA\": 451583, \"type\": \"house\", \"bedrooms\": 2}, {\"saledate\": \"2008-12-31T00:00:00\", \"MA\": 440256, \"type\": \"house\", \"bedrooms\": 2}, {\"saledate\": \"2009-03-31T00:00:00\", \"MA\": 442566, \"type\": \"house\", \"bedrooms\": 2}, {\"saledate\": \"2009-06-30T00:00:00\", \"MA\": 446113, \"type\": \"house\", \"bedrooms\": 2}, {\"saledate\": \"2009-09-30T00:00:00\", \"MA\": 440123, \"type\": \"house\", \"bedrooms\": 2}, {\"saledate\": \"2009-12-31T00:00:00\", \"MA\": 442131, \"type\": \"house\", \"bedrooms\": 2}, {\"saledate\": \"2010-03-31T00:00:00\", \"MA\": 459222, \"type\": \"house\", \"bedrooms\": 2}, {\"saledate\": \"2010-06-30T00:00:00\", \"MA\": 456822, \"type\": \"house\", \"bedrooms\": 2}, {\"saledate\": \"2010-09-30T00:00:00\", \"MA\": 457806, \"type\": \"house\", \"bedrooms\": 2}, {\"saledate\": \"2010-12-31T00:00:00\", \"MA\": 459109, \"type\": \"house\", \"bedrooms\": 2}, {\"saledate\": \"2011-03-31T00:00:00\", \"MA\": 460758, \"type\": \"house\", \"bedrooms\": 2}, {\"saledate\": \"2011-06-30T00:00:00\", \"MA\": 464788, \"type\": \"house\", \"bedrooms\": 2}, {\"saledate\": \"2011-09-30T00:00:00\", \"MA\": 467546, \"type\": \"house\", \"bedrooms\": 2}, {\"saledate\": \"2011-12-31T00:00:00\", \"MA\": 470333, \"type\": \"house\", \"bedrooms\": 2}, {\"saledate\": \"2012-03-31T00:00:00\", \"MA\": 470365, \"type\": \"house\", \"bedrooms\": 2}, {\"saledate\": \"2012-06-30T00:00:00\", \"MA\": 469149, \"type\": \"house\", \"bedrooms\": 2}, {\"saledate\": \"2012-09-30T00:00:00\", \"MA\": 465919, \"type\": \"house\", \"bedrooms\": 2}, {\"saledate\": \"2012-12-31T00:00:00\", \"MA\": 463090, \"type\": \"house\", \"bedrooms\": 2}, {\"saledate\": \"2013-03-31T00:00:00\", \"MA\": 451077, \"type\": \"house\", \"bedrooms\": 2}, {\"saledate\": \"2013-06-30T00:00:00\", \"MA\": 451516, \"type\": \"house\", \"bedrooms\": 2}, {\"saledate\": \"2013-09-30T00:00:00\", \"MA\": 454270, \"type\": \"house\", \"bedrooms\": 2}, {\"saledate\": \"2013-12-31T00:00:00\", \"MA\": 456548, \"type\": \"house\", \"bedrooms\": 2}, {\"saledate\": \"2014-03-31T00:00:00\", \"MA\": 469920, \"type\": \"house\", \"bedrooms\": 2}, {\"saledate\": \"2014-06-30T00:00:00\", \"MA\": 472726, \"type\": \"house\", \"bedrooms\": 2}, {\"saledate\": \"2014-09-30T00:00:00\", \"MA\": 475326, \"type\": \"house\", \"bedrooms\": 2}, {\"saledate\": \"2014-12-31T00:00:00\", \"MA\": 478413, \"type\": \"house\", \"bedrooms\": 2}, {\"saledate\": \"2015-03-31T00:00:00\", \"MA\": 478398, \"type\": \"house\", \"bedrooms\": 2}, {\"saledate\": \"2015-06-30T00:00:00\", \"MA\": 477238, \"type\": \"house\", \"bedrooms\": 2}, {\"saledate\": \"2015-09-30T00:00:00\", \"MA\": 477330, \"type\": \"house\", \"bedrooms\": 2}, {\"saledate\": \"2015-12-31T00:00:00\", \"MA\": 479010, \"type\": \"house\", \"bedrooms\": 2}, {\"saledate\": \"2016-03-31T00:00:00\", \"MA\": 482440, \"type\": \"house\", \"bedrooms\": 2}, {\"saledate\": \"2016-06-30T00:00:00\", \"MA\": 486436, \"type\": \"house\", \"bedrooms\": 2}, {\"saledate\": \"2016-09-30T00:00:00\", \"MA\": 489104, \"type\": \"house\", \"bedrooms\": 2}, {\"saledate\": \"2016-12-31T00:00:00\", \"MA\": 491152, \"type\": \"house\", \"bedrooms\": 2}, {\"saledate\": \"2017-03-31T00:00:00\", \"MA\": 494544, \"type\": \"house\", \"bedrooms\": 2}, {\"saledate\": \"2017-06-30T00:00:00\", \"MA\": 498846, \"type\": \"house\", \"bedrooms\": 2}, {\"saledate\": \"2017-09-30T00:00:00\", \"MA\": 504592, \"type\": \"house\", \"bedrooms\": 2}, {\"saledate\": \"2017-12-31T00:00:00\", \"MA\": 506578, \"type\": \"house\", \"bedrooms\": 2}, {\"saledate\": \"2018-03-31T00:00:00\", \"MA\": 507248, \"type\": \"house\", \"bedrooms\": 2}, {\"saledate\": \"2018-06-30T00:00:00\", \"MA\": 506116, \"type\": \"house\", \"bedrooms\": 2}, {\"saledate\": \"2018-09-30T00:00:00\", \"MA\": 504318, \"type\": \"house\", \"bedrooms\": 2}, {\"saledate\": \"2018-12-31T00:00:00\", \"MA\": 506001, \"type\": \"house\", \"bedrooms\": 2}, {\"saledate\": \"2019-03-31T00:00:00\", \"MA\": 496133, \"type\": \"house\", \"bedrooms\": 2}, {\"saledate\": \"2019-06-30T00:00:00\", \"MA\": 500158, \"type\": \"house\", \"bedrooms\": 2}, {\"saledate\": \"2019-09-30T00:00:00\", \"MA\": 510712, \"type\": \"house\", \"bedrooms\": 2}, {\"saledate\": \"2007-03-31T00:00:00\", \"MA\": 421291, \"type\": \"house\", \"bedrooms\": 3}, {\"saledate\": \"2007-06-30T00:00:00\", \"MA\": 421291, \"type\": \"house\", \"bedrooms\": 3}, {\"saledate\": \"2007-09-30T00:00:00\", \"MA\": 421291, \"type\": \"house\", \"bedrooms\": 3}, {\"saledate\": \"2007-12-31T00:00:00\", \"MA\": 421291, \"type\": \"house\", \"bedrooms\": 3}, {\"saledate\": \"2008-03-31T00:00:00\", \"MA\": 416031, \"type\": \"house\", \"bedrooms\": 3}, {\"saledate\": \"2008-06-30T00:00:00\", \"MA\": 419628, \"type\": \"house\", \"bedrooms\": 3}, {\"saledate\": \"2008-09-30T00:00:00\", \"MA\": 423811, \"type\": \"house\", \"bedrooms\": 3}, {\"saledate\": \"2008-12-31T00:00:00\", \"MA\": 426488, \"type\": \"house\", \"bedrooms\": 3}, {\"saledate\": \"2009-03-31T00:00:00\", \"MA\": 437724, \"type\": \"house\", \"bedrooms\": 3}, {\"saledate\": \"2009-06-30T00:00:00\", \"MA\": 444351, \"type\": \"house\", \"bedrooms\": 3}, {\"saledate\": \"2009-09-30T00:00:00\", \"MA\": 449742, \"type\": \"house\", \"bedrooms\": 3}, {\"saledate\": \"2009-12-31T00:00:00\", \"MA\": 457394, \"type\": \"house\", \"bedrooms\": 3}, {\"saledate\": \"2010-03-31T00:00:00\", \"MA\": 466433, \"type\": \"house\", \"bedrooms\": 3}, {\"saledate\": \"2010-06-30T00:00:00\", \"MA\": 474590, \"type\": \"house\", \"bedrooms\": 3}, {\"saledate\": \"2010-09-30T00:00:00\", \"MA\": 483176, \"type\": \"house\", \"bedrooms\": 3}, {\"saledate\": \"2010-12-31T00:00:00\", \"MA\": 491715, \"type\": \"house\", \"bedrooms\": 3}, {\"saledate\": \"2011-03-31T00:00:00\", \"MA\": 498022, \"type\": \"house\", \"bedrooms\": 3}, {\"saledate\": \"2011-06-30T00:00:00\", \"MA\": 503891, \"type\": \"house\", \"bedrooms\": 3}, {\"saledate\": \"2011-09-30T00:00:00\", \"MA\": 507090, \"type\": \"house\", \"bedrooms\": 3}, {\"saledate\": \"2011-12-31T00:00:00\", \"MA\": 507744, \"type\": \"house\", \"bedrooms\": 3}, {\"saledate\": \"2012-03-31T00:00:00\", \"MA\": 507449, \"type\": \"house\", \"bedrooms\": 3}, {\"saledate\": \"2012-06-30T00:00:00\", \"MA\": 507014, \"type\": \"house\", \"bedrooms\": 3}, {\"saledate\": \"2012-09-30T00:00:00\", \"MA\": 506615, \"type\": \"house\", \"bedrooms\": 3}, {\"saledate\": \"2012-12-31T00:00:00\", \"MA\": 506615, \"type\": \"house\", \"bedrooms\": 3}, {\"saledate\": \"2013-03-31T00:00:00\", \"MA\": 506380, \"type\": \"house\", \"bedrooms\": 3}, {\"saledate\": \"2013-06-30T00:00:00\", \"MA\": 505739, \"type\": \"house\", \"bedrooms\": 3}, {\"saledate\": \"2013-09-30T00:00:00\", \"MA\": 505823, \"type\": \"house\", \"bedrooms\": 3}, {\"saledate\": \"2013-12-31T00:00:00\", \"MA\": 506406, \"type\": \"house\", \"bedrooms\": 3}, {\"saledate\": \"2014-03-31T00:00:00\", \"MA\": 508499, \"type\": \"house\", \"bedrooms\": 3}, {\"saledate\": \"2014-06-30T00:00:00\", \"MA\": 512374, \"type\": \"house\", \"bedrooms\": 3}, {\"saledate\": \"2014-09-30T00:00:00\", \"MA\": 516618, \"type\": \"house\", \"bedrooms\": 3}, {\"saledate\": \"2014-12-31T00:00:00\", \"MA\": 522103, \"type\": \"house\", \"bedrooms\": 3}, {\"saledate\": \"2015-03-31T00:00:00\", \"MA\": 528926, \"type\": \"house\", \"bedrooms\": 3}, {\"saledate\": \"2015-06-30T00:00:00\", \"MA\": 534927, \"type\": \"house\", \"bedrooms\": 3}, {\"saledate\": \"2015-09-30T00:00:00\", \"MA\": 542051, \"type\": \"house\", \"bedrooms\": 3}, {\"saledate\": \"2015-12-31T00:00:00\", \"MA\": 549278, \"type\": \"house\", \"bedrooms\": 3}, {\"saledate\": \"2016-03-31T00:00:00\", \"MA\": 556586, \"type\": \"house\", \"bedrooms\": 3}, {\"saledate\": \"2016-06-30T00:00:00\", \"MA\": 564267, \"type\": \"house\", \"bedrooms\": 3}, {\"saledate\": \"2016-09-30T00:00:00\", \"MA\": 572582, \"type\": \"house\", \"bedrooms\": 3}, {\"saledate\": \"2016-12-31T00:00:00\", \"MA\": 581485, \"type\": \"house\", \"bedrooms\": 3}, {\"saledate\": \"2017-03-31T00:00:00\", \"MA\": 590949, \"type\": \"house\", \"bedrooms\": 3}, {\"saledate\": \"2017-06-30T00:00:00\", \"MA\": 601041, \"type\": \"house\", \"bedrooms\": 3}, {\"saledate\": \"2017-09-30T00:00:00\", \"MA\": 609355, \"type\": \"house\", \"bedrooms\": 3}, {\"saledate\": \"2017-12-31T00:00:00\", \"MA\": 615743, \"type\": \"house\", \"bedrooms\": 3}, {\"saledate\": \"2018-03-31T00:00:00\", \"MA\": 619638, \"type\": \"house\", \"bedrooms\": 3}, {\"saledate\": \"2018-06-30T00:00:00\", \"MA\": 622466, \"type\": \"house\", \"bedrooms\": 3}, {\"saledate\": \"2018-09-30T00:00:00\", \"MA\": 624602, \"type\": \"house\", \"bedrooms\": 3}, {\"saledate\": \"2018-12-31T00:00:00\", \"MA\": 626608, \"type\": \"house\", \"bedrooms\": 3}, {\"saledate\": \"2019-03-31T00:00:00\", \"MA\": 628423, \"type\": \"house\", \"bedrooms\": 3}, {\"saledate\": \"2019-06-30T00:00:00\", \"MA\": 630814, \"type\": \"house\", \"bedrooms\": 3}, {\"saledate\": \"2019-09-30T00:00:00\", \"MA\": 631875, \"type\": \"house\", \"bedrooms\": 3}, {\"saledate\": \"2007-03-31T00:00:00\", \"MA\": 548969, \"type\": \"house\", \"bedrooms\": 4}, {\"saledate\": \"2007-06-30T00:00:00\", \"MA\": 548969, \"type\": \"house\", \"bedrooms\": 4}, {\"saledate\": \"2007-09-30T00:00:00\", \"MA\": 548969, \"type\": \"house\", \"bedrooms\": 4}, {\"saledate\": \"2007-12-31T00:00:00\", \"MA\": 548969, \"type\": \"house\", \"bedrooms\": 4}, {\"saledate\": \"2008-03-31T00:00:00\", \"MA\": 552484, \"type\": \"house\", \"bedrooms\": 4}, {\"saledate\": \"2008-06-30T00:00:00\", \"MA\": 559580, \"type\": \"house\", \"bedrooms\": 4}, {\"saledate\": \"2008-09-30T00:00:00\", \"MA\": 561852, \"type\": \"house\", \"bedrooms\": 4}, {\"saledate\": \"2008-12-31T00:00:00\", \"MA\": 565467, \"type\": \"house\", \"bedrooms\": 4}, {\"saledate\": \"2009-03-31T00:00:00\", \"MA\": 569682, \"type\": \"house\", \"bedrooms\": 4}, {\"saledate\": \"2009-06-30T00:00:00\", \"MA\": 574680, \"type\": \"house\", \"bedrooms\": 4}, {\"saledate\": \"2009-09-30T00:00:00\", \"MA\": 579369, \"type\": \"house\", \"bedrooms\": 4}, {\"saledate\": \"2009-12-31T00:00:00\", \"MA\": 588379, \"type\": \"house\", \"bedrooms\": 4}, {\"saledate\": \"2010-03-31T00:00:00\", \"MA\": 599614, \"type\": \"house\", \"bedrooms\": 4}, {\"saledate\": \"2010-06-30T00:00:00\", \"MA\": 608528, \"type\": \"house\", \"bedrooms\": 4}, {\"saledate\": \"2010-09-30T00:00:00\", \"MA\": 615603, \"type\": \"house\", \"bedrooms\": 4}, {\"saledate\": \"2010-12-31T00:00:00\", \"MA\": 623105, \"type\": \"house\", \"bedrooms\": 4}, {\"saledate\": \"2011-03-31T00:00:00\", \"MA\": 628969, \"type\": \"house\", \"bedrooms\": 4}, {\"saledate\": \"2011-06-30T00:00:00\", \"MA\": 634155, \"type\": \"house\", \"bedrooms\": 4}, {\"saledate\": \"2011-09-30T00:00:00\", \"MA\": 636582, \"type\": \"house\", \"bedrooms\": 4}, {\"saledate\": \"2011-12-31T00:00:00\", \"MA\": 637421, \"type\": \"house\", \"bedrooms\": 4}, {\"saledate\": \"2012-03-31T00:00:00\", \"MA\": 635411, \"type\": \"house\", \"bedrooms\": 4}, {\"saledate\": \"2012-06-30T00:00:00\", \"MA\": 633695, \"type\": \"house\", \"bedrooms\": 4}, {\"saledate\": \"2012-09-30T00:00:00\", \"MA\": 634803, \"type\": \"house\", \"bedrooms\": 4}, {\"saledate\": \"2012-12-31T00:00:00\", \"MA\": 633875, \"type\": \"house\", \"bedrooms\": 4}, {\"saledate\": \"2013-03-31T00:00:00\", \"MA\": 634229, \"type\": \"house\", \"bedrooms\": 4}, {\"saledate\": \"2013-06-30T00:00:00\", \"MA\": 635515, \"type\": \"house\", \"bedrooms\": 4}, {\"saledate\": \"2013-09-30T00:00:00\", \"MA\": 636687, \"type\": \"house\", \"bedrooms\": 4}, {\"saledate\": \"2013-12-31T00:00:00\", \"MA\": 641125, \"type\": \"house\", \"bedrooms\": 4}, {\"saledate\": \"2014-03-31T00:00:00\", \"MA\": 648174, \"type\": \"house\", \"bedrooms\": 4}, {\"saledate\": \"2014-06-30T00:00:00\", \"MA\": 655757, \"type\": \"house\", \"bedrooms\": 4}, {\"saledate\": \"2014-09-30T00:00:00\", \"MA\": 664635, \"type\": \"house\", \"bedrooms\": 4}, {\"saledate\": \"2014-12-31T00:00:00\", \"MA\": 673762, \"type\": \"house\", \"bedrooms\": 4}, {\"saledate\": \"2015-03-31T00:00:00\", \"MA\": 684006, \"type\": \"house\", \"bedrooms\": 4}, {\"saledate\": \"2015-06-30T00:00:00\", \"MA\": 694800, \"type\": \"house\", \"bedrooms\": 4}, {\"saledate\": \"2015-09-30T00:00:00\", \"MA\": 706711, \"type\": \"house\", \"bedrooms\": 4}, {\"saledate\": \"2015-12-31T00:00:00\", \"MA\": 718261, \"type\": \"house\", \"bedrooms\": 4}, {\"saledate\": \"2016-03-31T00:00:00\", \"MA\": 727736, \"type\": \"house\", \"bedrooms\": 4}, {\"saledate\": \"2016-06-30T00:00:00\", \"MA\": 737159, \"type\": \"house\", \"bedrooms\": 4}, {\"saledate\": \"2016-09-30T00:00:00\", \"MA\": 745430, \"type\": \"house\", \"bedrooms\": 4}, {\"saledate\": \"2016-12-31T00:00:00\", \"MA\": 755683, \"type\": \"house\", \"bedrooms\": 4}, {\"saledate\": \"2017-03-31T00:00:00\", \"MA\": 771216, \"type\": \"house\", \"bedrooms\": 4}, {\"saledate\": \"2017-06-30T00:00:00\", \"MA\": 789732, \"type\": \"house\", \"bedrooms\": 4}, {\"saledate\": \"2017-09-30T00:00:00\", \"MA\": 810694, \"type\": \"house\", \"bedrooms\": 4}, {\"saledate\": \"2017-12-31T00:00:00\", \"MA\": 828058, \"type\": \"house\", \"bedrooms\": 4}, {\"saledate\": \"2018-03-31T00:00:00\", \"MA\": 836056, \"type\": \"house\", \"bedrooms\": 4}, {\"saledate\": \"2018-06-30T00:00:00\", \"MA\": 837295, \"type\": \"house\", \"bedrooms\": 4}, {\"saledate\": \"2018-09-30T00:00:00\", \"MA\": 830727, \"type\": \"house\", \"bedrooms\": 4}, {\"saledate\": \"2018-12-31T00:00:00\", \"MA\": 820924, \"type\": \"house\", \"bedrooms\": 4}, {\"saledate\": \"2019-03-31T00:00:00\", \"MA\": 811121, \"type\": \"house\", \"bedrooms\": 4}, {\"saledate\": \"2019-06-30T00:00:00\", \"MA\": 803925, \"type\": \"house\", \"bedrooms\": 4}, {\"saledate\": \"2019-09-30T00:00:00\", \"MA\": 791446, \"type\": \"house\", \"bedrooms\": 4}, {\"saledate\": \"2007-09-30T00:00:00\", \"MA\": 735904, \"type\": \"house\", \"bedrooms\": 5}, {\"saledate\": \"2007-12-31T00:00:00\", \"MA\": 735904, \"type\": \"house\", \"bedrooms\": 5}, {\"saledate\": \"2008-03-31T00:00:00\", \"MA\": 735904, \"type\": \"house\", \"bedrooms\": 5}, {\"saledate\": \"2008-06-30T00:00:00\", \"MA\": 735904, \"type\": \"house\", \"bedrooms\": 5}, {\"saledate\": \"2008-09-30T00:00:00\", \"MA\": 758340, \"type\": \"house\", \"bedrooms\": 5}, {\"saledate\": \"2008-12-31T00:00:00\", \"MA\": 764025, \"type\": \"house\", \"bedrooms\": 5}, {\"saledate\": \"2009-03-31T00:00:00\", \"MA\": 770046, \"type\": \"house\", \"bedrooms\": 5}, {\"saledate\": \"2009-06-30T00:00:00\", \"MA\": 765555, \"type\": \"house\", \"bedrooms\": 5}, {\"saledate\": \"2009-09-30T00:00:00\", \"MA\": 765515, \"type\": \"house\", \"bedrooms\": 5}, {\"saledate\": \"2009-12-31T00:00:00\", \"MA\": 771280, \"type\": \"house\", \"bedrooms\": 5}, {\"saledate\": \"2010-03-31T00:00:00\", \"MA\": 773355, \"type\": \"house\", \"bedrooms\": 5}, {\"saledate\": \"2010-06-30T00:00:00\", \"MA\": 776325, \"type\": \"house\", \"bedrooms\": 5}, {\"saledate\": \"2010-09-30T00:00:00\", \"MA\": 772699, \"type\": \"house\", \"bedrooms\": 5}, {\"saledate\": \"2010-12-31T00:00:00\", \"MA\": 775199, \"type\": \"house\", \"bedrooms\": 5}, {\"saledate\": \"2011-03-31T00:00:00\", \"MA\": 778470, \"type\": \"house\", \"bedrooms\": 5}, {\"saledate\": \"2011-06-30T00:00:00\", \"MA\": 789627, \"type\": \"house\", \"bedrooms\": 5}, {\"saledate\": \"2011-09-30T00:00:00\", \"MA\": 789614, \"type\": \"house\", \"bedrooms\": 5}, {\"saledate\": \"2011-12-31T00:00:00\", \"MA\": 790965, \"type\": \"house\", \"bedrooms\": 5}, {\"saledate\": \"2012-03-31T00:00:00\", \"MA\": 794533, \"type\": \"house\", \"bedrooms\": 5}, {\"saledate\": \"2012-06-30T00:00:00\", \"MA\": 792171, \"type\": \"house\", \"bedrooms\": 5}, {\"saledate\": \"2012-09-30T00:00:00\", \"MA\": 800432, \"type\": \"house\", \"bedrooms\": 5}, {\"saledate\": \"2012-12-31T00:00:00\", \"MA\": 804474, \"type\": \"house\", \"bedrooms\": 5}, {\"saledate\": \"2013-03-31T00:00:00\", \"MA\": 807826, \"type\": \"house\", \"bedrooms\": 5}, {\"saledate\": \"2013-06-30T00:00:00\", \"MA\": 812224, \"type\": \"house\", \"bedrooms\": 5}, {\"saledate\": \"2013-09-30T00:00:00\", \"MA\": 805066, \"type\": \"house\", \"bedrooms\": 5}, {\"saledate\": \"2013-12-31T00:00:00\", \"MA\": 805682, \"type\": \"house\", \"bedrooms\": 5}, {\"saledate\": \"2014-03-31T00:00:00\", \"MA\": 811908, \"type\": \"house\", \"bedrooms\": 5}, {\"saledate\": \"2014-06-30T00:00:00\", \"MA\": 820368, \"type\": \"house\", \"bedrooms\": 5}, {\"saledate\": \"2014-09-30T00:00:00\", \"MA\": 843904, \"type\": \"house\", \"bedrooms\": 5}, {\"saledate\": \"2014-12-31T00:00:00\", \"MA\": 855039, \"type\": \"house\", \"bedrooms\": 5}, {\"saledate\": \"2015-03-31T00:00:00\", \"MA\": 866489, \"type\": \"house\", \"bedrooms\": 5}, {\"saledate\": \"2015-06-30T00:00:00\", \"MA\": 880625, \"type\": \"house\", \"bedrooms\": 5}, {\"saledate\": \"2015-09-30T00:00:00\", \"MA\": 891981, \"type\": \"house\", \"bedrooms\": 5}, {\"saledate\": \"2015-12-31T00:00:00\", \"MA\": 909131, \"type\": \"house\", \"bedrooms\": 5}, {\"saledate\": \"2016-03-31T00:00:00\", \"MA\": 923594, \"type\": \"house\", \"bedrooms\": 5}, {\"saledate\": \"2016-06-30T00:00:00\", \"MA\": 933589, \"type\": \"house\", \"bedrooms\": 5}, {\"saledate\": \"2016-09-30T00:00:00\", \"MA\": 952327, \"type\": \"house\", \"bedrooms\": 5}, {\"saledate\": \"2016-12-31T00:00:00\", \"MA\": 968331, \"type\": \"house\", \"bedrooms\": 5}, {\"saledate\": \"2017-03-31T00:00:00\", \"MA\": 980953, \"type\": \"house\", \"bedrooms\": 5}, {\"saledate\": \"2017-06-30T00:00:00\", \"MA\": 995349, \"type\": \"house\", \"bedrooms\": 5}, {\"saledate\": \"2017-09-30T00:00:00\", \"MA\": 1004117, \"type\": \"house\", \"bedrooms\": 5}, {\"saledate\": \"2017-12-31T00:00:00\", \"MA\": 1010848, \"type\": \"house\", \"bedrooms\": 5}, {\"saledate\": \"2018-03-31T00:00:00\", \"MA\": 1015529, \"type\": \"house\", \"bedrooms\": 5}, {\"saledate\": \"2018-06-30T00:00:00\", \"MA\": 1017752, \"type\": \"house\", \"bedrooms\": 5}, {\"saledate\": \"2018-09-30T00:00:00\", \"MA\": 1007114, \"type\": \"house\", \"bedrooms\": 5}, {\"saledate\": \"2018-12-31T00:00:00\", \"MA\": 1002323, \"type\": \"house\", \"bedrooms\": 5}, {\"saledate\": \"2019-03-31T00:00:00\", \"MA\": 998136, \"type\": \"house\", \"bedrooms\": 5}, {\"saledate\": \"2019-06-30T00:00:00\", \"MA\": 995363, \"type\": \"house\", \"bedrooms\": 5}, {\"saledate\": \"2019-09-30T00:00:00\", \"MA\": 970268, \"type\": \"house\", \"bedrooms\": 5}, {\"saledate\": \"2007-12-31T00:00:00\", \"MA\": 326076, \"type\": \"unit\", \"bedrooms\": 1}, {\"saledate\": \"2008-03-31T00:00:00\", \"MA\": 326076, \"type\": \"unit\", \"bedrooms\": 1}, {\"saledate\": \"2008-06-30T00:00:00\", \"MA\": 326076, \"type\": \"unit\", \"bedrooms\": 1}, {\"saledate\": \"2008-09-30T00:00:00\", \"MA\": 326076, \"type\": \"unit\", \"bedrooms\": 1}, {\"saledate\": \"2008-12-31T00:00:00\", \"MA\": 327321, \"type\": \"unit\", \"bedrooms\": 1}, {\"saledate\": \"2009-03-31T00:00:00\", \"MA\": 324712, \"type\": \"unit\", \"bedrooms\": 1}, {\"saledate\": \"2009-06-30T00:00:00\", \"MA\": 323556, \"type\": \"unit\", \"bedrooms\": 1}, {\"saledate\": \"2009-09-30T00:00:00\", \"MA\": 318922, \"type\": \"unit\", \"bedrooms\": 1}, {\"saledate\": \"2009-12-31T00:00:00\", \"MA\": 316914, \"type\": \"unit\", \"bedrooms\": 1}, {\"saledate\": \"2010-03-31T00:00:00\", \"MA\": 316751, \"type\": \"unit\", \"bedrooms\": 1}, {\"saledate\": \"2010-06-30T00:00:00\", \"MA\": 317711, \"type\": \"unit\", \"bedrooms\": 1}, {\"saledate\": \"2010-09-30T00:00:00\", \"MA\": 318695, \"type\": \"unit\", \"bedrooms\": 1}, {\"saledate\": \"2010-12-31T00:00:00\", \"MA\": 324778, \"type\": \"unit\", \"bedrooms\": 1}, {\"saledate\": \"2011-03-31T00:00:00\", \"MA\": 329856, \"type\": \"unit\", \"bedrooms\": 1}, {\"saledate\": \"2011-06-30T00:00:00\", \"MA\": 333049, \"type\": \"unit\", \"bedrooms\": 1}, {\"saledate\": \"2011-09-30T00:00:00\", \"MA\": 337144, \"type\": \"unit\", \"bedrooms\": 1}, {\"saledate\": \"2011-12-31T00:00:00\", \"MA\": 337400, \"type\": \"unit\", \"bedrooms\": 1}, {\"saledate\": \"2012-03-31T00:00:00\", \"MA\": 339125, \"type\": \"unit\", \"bedrooms\": 1}, {\"saledate\": \"2012-06-30T00:00:00\", \"MA\": 341807, \"type\": \"unit\", \"bedrooms\": 1}, {\"saledate\": \"2012-09-30T00:00:00\", \"MA\": 344793, \"type\": \"unit\", \"bedrooms\": 1}, {\"saledate\": \"2012-12-31T00:00:00\", \"MA\": 347754, \"type\": \"unit\", \"bedrooms\": 1}, {\"saledate\": \"2013-03-31T00:00:00\", \"MA\": 348491, \"type\": \"unit\", \"bedrooms\": 1}, {\"saledate\": \"2013-06-30T00:00:00\", \"MA\": 348512, \"type\": \"unit\", \"bedrooms\": 1}, {\"saledate\": \"2013-09-30T00:00:00\", \"MA\": 347962, \"type\": \"unit\", \"bedrooms\": 1}, {\"saledate\": \"2013-12-31T00:00:00\", \"MA\": 345573, \"type\": \"unit\", \"bedrooms\": 1}, {\"saledate\": \"2014-03-31T00:00:00\", \"MA\": 343298, \"type\": \"unit\", \"bedrooms\": 1}, {\"saledate\": \"2014-06-30T00:00:00\", \"MA\": 341289, \"type\": \"unit\", \"bedrooms\": 1}, {\"saledate\": \"2014-09-30T00:00:00\", \"MA\": 338293, \"type\": \"unit\", \"bedrooms\": 1}, {\"saledate\": \"2014-12-31T00:00:00\", \"MA\": 336520, \"type\": \"unit\", \"bedrooms\": 1}, {\"saledate\": \"2015-03-31T00:00:00\", \"MA\": 334488, \"type\": \"unit\", \"bedrooms\": 1}, {\"saledate\": \"2015-06-30T00:00:00\", \"MA\": 332703, \"type\": \"unit\", \"bedrooms\": 1}, {\"saledate\": \"2015-09-30T00:00:00\", \"MA\": 330278, \"type\": \"unit\", \"bedrooms\": 1}, {\"saledate\": \"2015-12-31T00:00:00\", \"MA\": 328300, \"type\": \"unit\", \"bedrooms\": 1}, {\"saledate\": \"2016-03-31T00:00:00\", \"MA\": 326476, \"type\": \"unit\", \"bedrooms\": 1}, {\"saledate\": \"2016-06-30T00:00:00\", \"MA\": 324725, \"type\": \"unit\", \"bedrooms\": 1}, {\"saledate\": \"2016-09-30T00:00:00\", \"MA\": 325127, \"type\": \"unit\", \"bedrooms\": 1}, {\"saledate\": \"2016-12-31T00:00:00\", \"MA\": 325521, \"type\": \"unit\", \"bedrooms\": 1}, {\"saledate\": \"2017-03-31T00:00:00\", \"MA\": 327870, \"type\": \"unit\", \"bedrooms\": 1}, {\"saledate\": \"2017-06-30T00:00:00\", \"MA\": 330319, \"type\": \"unit\", \"bedrooms\": 1}, {\"saledate\": \"2017-09-30T00:00:00\", \"MA\": 332481, \"type\": \"unit\", \"bedrooms\": 1}, {\"saledate\": \"2017-12-31T00:00:00\", \"MA\": 334804, \"type\": \"unit\", \"bedrooms\": 1}, {\"saledate\": \"2018-03-31T00:00:00\", \"MA\": 336637, \"type\": \"unit\", \"bedrooms\": 1}, {\"saledate\": \"2018-06-30T00:00:00\", \"MA\": 338105, \"type\": \"unit\", \"bedrooms\": 1}, {\"saledate\": \"2018-09-30T00:00:00\", \"MA\": 339220, \"type\": \"unit\", \"bedrooms\": 1}, {\"saledate\": \"2018-12-31T00:00:00\", \"MA\": 339350, \"type\": \"unit\", \"bedrooms\": 1}, {\"saledate\": \"2019-03-31T00:00:00\", \"MA\": 337838, \"type\": \"unit\", \"bedrooms\": 1}, {\"saledate\": \"2019-06-30T00:00:00\", \"MA\": 336551, \"type\": \"unit\", \"bedrooms\": 1}, {\"saledate\": \"2019-09-30T00:00:00\", \"MA\": 335449, \"type\": \"unit\", \"bedrooms\": 1}, {\"saledate\": \"2007-06-30T00:00:00\", \"MA\": 368817, \"type\": \"unit\", \"bedrooms\": 2}, {\"saledate\": \"2007-09-30T00:00:00\", \"MA\": 368817, \"type\": \"unit\", \"bedrooms\": 2}, {\"saledate\": \"2007-12-31T00:00:00\", \"MA\": 368817, \"type\": \"unit\", \"bedrooms\": 2}, {\"saledate\": \"2008-03-31T00:00:00\", \"MA\": 368817, \"type\": \"unit\", \"bedrooms\": 2}, {\"saledate\": \"2008-06-30T00:00:00\", \"MA\": 373482, \"type\": \"unit\", \"bedrooms\": 2}, {\"saledate\": \"2008-09-30T00:00:00\", \"MA\": 377481, \"type\": \"unit\", \"bedrooms\": 2}, {\"saledate\": \"2008-12-31T00:00:00\", \"MA\": 382010, \"type\": \"unit\", \"bedrooms\": 2}, {\"saledate\": \"2009-03-31T00:00:00\", \"MA\": 380810, \"type\": \"unit\", \"bedrooms\": 2}, {\"saledate\": \"2009-06-30T00:00:00\", \"MA\": 385791, \"type\": \"unit\", \"bedrooms\": 2}, {\"saledate\": \"2009-09-30T00:00:00\", \"MA\": 391161, \"type\": \"unit\", \"bedrooms\": 2}, {\"saledate\": \"2009-12-31T00:00:00\", \"MA\": 396448, \"type\": \"unit\", \"bedrooms\": 2}, {\"saledate\": \"2010-03-31T00:00:00\", \"MA\": 402898, \"type\": \"unit\", \"bedrooms\": 2}, {\"saledate\": \"2010-06-30T00:00:00\", \"MA\": 408608, \"type\": \"unit\", \"bedrooms\": 2}, {\"saledate\": \"2010-09-30T00:00:00\", \"MA\": 412509, \"type\": \"unit\", \"bedrooms\": 2}, {\"saledate\": \"2010-12-31T00:00:00\", \"MA\": 415991, \"type\": \"unit\", \"bedrooms\": 2}, {\"saledate\": \"2011-03-31T00:00:00\", \"MA\": 417970, \"type\": \"unit\", \"bedrooms\": 2}, {\"saledate\": \"2011-06-30T00:00:00\", \"MA\": 419777, \"type\": \"unit\", \"bedrooms\": 2}, {\"saledate\": \"2011-09-30T00:00:00\", \"MA\": 421158, \"type\": \"unit\", \"bedrooms\": 2}, {\"saledate\": \"2011-12-31T00:00:00\", \"MA\": 423144, \"type\": \"unit\", \"bedrooms\": 2}, {\"saledate\": \"2012-03-31T00:00:00\", \"MA\": 424673, \"type\": \"unit\", \"bedrooms\": 2}, {\"saledate\": \"2012-06-30T00:00:00\", \"MA\": 424249, \"type\": \"unit\", \"bedrooms\": 2}, {\"saledate\": \"2012-09-30T00:00:00\", \"MA\": 425453, \"type\": \"unit\", \"bedrooms\": 2}, {\"saledate\": \"2012-12-31T00:00:00\", \"MA\": 425922, \"type\": \"unit\", \"bedrooms\": 2}, {\"saledate\": \"2013-03-31T00:00:00\", \"MA\": 425751, \"type\": \"unit\", \"bedrooms\": 2}, {\"saledate\": \"2013-06-30T00:00:00\", \"MA\": 426621, \"type\": \"unit\", \"bedrooms\": 2}, {\"saledate\": \"2013-09-30T00:00:00\", \"MA\": 428398, \"type\": \"unit\", \"bedrooms\": 2}, {\"saledate\": \"2013-12-31T00:00:00\", \"MA\": 428365, \"type\": \"unit\", \"bedrooms\": 2}, {\"saledate\": \"2014-03-31T00:00:00\", \"MA\": 429283, \"type\": \"unit\", \"bedrooms\": 2}, {\"saledate\": \"2014-06-30T00:00:00\", \"MA\": 429361, \"type\": \"unit\", \"bedrooms\": 2}, {\"saledate\": \"2014-09-30T00:00:00\", \"MA\": 428911, \"type\": \"unit\", \"bedrooms\": 2}, {\"saledate\": \"2014-12-31T00:00:00\", \"MA\": 429832, \"type\": \"unit\", \"bedrooms\": 2}, {\"saledate\": \"2015-03-31T00:00:00\", \"MA\": 431567, \"type\": \"unit\", \"bedrooms\": 2}, {\"saledate\": \"2015-06-30T00:00:00\", \"MA\": 432730, \"type\": \"unit\", \"bedrooms\": 2}, {\"saledate\": \"2015-09-30T00:00:00\", \"MA\": 432791, \"type\": \"unit\", \"bedrooms\": 2}, {\"saledate\": \"2015-12-31T00:00:00\", \"MA\": 432801, \"type\": \"unit\", \"bedrooms\": 2}, {\"saledate\": \"2016-03-31T00:00:00\", \"MA\": 431418, \"type\": \"unit\", \"bedrooms\": 2}, {\"saledate\": \"2016-06-30T00:00:00\", \"MA\": 430880, \"type\": \"unit\", \"bedrooms\": 2}, {\"saledate\": \"2016-09-30T00:00:00\", \"MA\": 430654, \"type\": \"unit\", \"bedrooms\": 2}, {\"saledate\": \"2016-12-31T00:00:00\", \"MA\": 430308, \"type\": \"unit\", \"bedrooms\": 2}, {\"saledate\": \"2017-03-31T00:00:00\", \"MA\": 429897, \"type\": \"unit\", \"bedrooms\": 2}, {\"saledate\": \"2017-06-30T00:00:00\", \"MA\": 429059, \"type\": \"unit\", \"bedrooms\": 2}, {\"saledate\": \"2017-09-30T00:00:00\", \"MA\": 428878, \"type\": \"unit\", \"bedrooms\": 2}, {\"saledate\": \"2017-12-31T00:00:00\", \"MA\": 428532, \"type\": \"unit\", \"bedrooms\": 2}, {\"saledate\": \"2018-03-31T00:00:00\", \"MA\": 427856, \"type\": \"unit\", \"bedrooms\": 2}, {\"saledate\": \"2018-06-30T00:00:00\", \"MA\": 427623, \"type\": \"unit\", \"bedrooms\": 2}, {\"saledate\": \"2018-09-30T00:00:00\", \"MA\": 426970, \"type\": \"unit\", \"bedrooms\": 2}, {\"saledate\": \"2018-12-31T00:00:00\", \"MA\": 426936, \"type\": \"unit\", \"bedrooms\": 2}, {\"saledate\": \"2019-03-31T00:00:00\", \"MA\": 426669, \"type\": \"unit\", \"bedrooms\": 2}, {\"saledate\": \"2019-06-30T00:00:00\", \"MA\": 425659, \"type\": \"unit\", \"bedrooms\": 2}, {\"saledate\": \"2019-09-30T00:00:00\", \"MA\": 424412, \"type\": \"unit\", \"bedrooms\": 2}, {\"saledate\": \"2007-09-30T00:00:00\", \"MA\": 518911, \"type\": \"unit\", \"bedrooms\": 3}, {\"saledate\": \"2007-12-31T00:00:00\", \"MA\": 518911, \"type\": \"unit\", \"bedrooms\": 3}, {\"saledate\": \"2008-03-31T00:00:00\", \"MA\": 518911, \"type\": \"unit\", \"bedrooms\": 3}, {\"saledate\": \"2008-06-30T00:00:00\", \"MA\": 518911, \"type\": \"unit\", \"bedrooms\": 3}, {\"saledate\": \"2008-09-30T00:00:00\", \"MA\": 518911, \"type\": \"unit\", \"bedrooms\": 3}, {\"saledate\": \"2008-12-31T00:00:00\", \"MA\": 518911, \"type\": \"unit\", \"bedrooms\": 3}, {\"saledate\": \"2009-03-31T00:00:00\", \"MA\": 518911, \"type\": \"unit\", \"bedrooms\": 3}, {\"saledate\": \"2009-06-30T00:00:00\", \"MA\": 518911, \"type\": \"unit\", \"bedrooms\": 3}, {\"saledate\": \"2009-09-30T00:00:00\", \"MA\": 523285, \"type\": \"unit\", \"bedrooms\": 3}, {\"saledate\": \"2009-12-31T00:00:00\", \"MA\": 522862, \"type\": \"unit\", \"bedrooms\": 3}, {\"saledate\": \"2010-03-31T00:00:00\", \"MA\": 524008, \"type\": \"unit\", \"bedrooms\": 3}, {\"saledate\": \"2010-06-30T00:00:00\", \"MA\": 535063, \"type\": \"unit\", \"bedrooms\": 3}, {\"saledate\": \"2010-09-30T00:00:00\", \"MA\": 538694, \"type\": \"unit\", \"bedrooms\": 3}, {\"saledate\": \"2010-12-31T00:00:00\", \"MA\": 555117, \"type\": \"unit\", \"bedrooms\": 3}, {\"saledate\": \"2011-03-31T00:00:00\", \"MA\": 550851, \"type\": \"unit\", \"bedrooms\": 3}, {\"saledate\": \"2011-06-30T00:00:00\", \"MA\": 547981, \"type\": \"unit\", \"bedrooms\": 3}, {\"saledate\": \"2011-09-30T00:00:00\", \"MA\": 539828, \"type\": \"unit\", \"bedrooms\": 3}, {\"saledate\": \"2011-12-31T00:00:00\", \"MA\": 530987, \"type\": \"unit\", \"bedrooms\": 3}, {\"saledate\": \"2012-03-31T00:00:00\", \"MA\": 540344, \"type\": \"unit\", \"bedrooms\": 3}, {\"saledate\": \"2012-06-30T00:00:00\", \"MA\": 537592, \"type\": \"unit\", \"bedrooms\": 3}, {\"saledate\": \"2012-09-30T00:00:00\", \"MA\": 548326, \"type\": \"unit\", \"bedrooms\": 3}, {\"saledate\": \"2012-12-31T00:00:00\", \"MA\": 555644, \"type\": \"unit\", \"bedrooms\": 3}, {\"saledate\": \"2013-03-31T00:00:00\", \"MA\": 566706, \"type\": \"unit\", \"bedrooms\": 3}, {\"saledate\": \"2013-06-30T00:00:00\", \"MA\": 580696, \"type\": \"unit\", \"bedrooms\": 3}, {\"saledate\": \"2013-09-30T00:00:00\", \"MA\": 581428, \"type\": \"unit\", \"bedrooms\": 3}, {\"saledate\": \"2013-12-31T00:00:00\", \"MA\": 586470, \"type\": \"unit\", \"bedrooms\": 3}, {\"saledate\": \"2014-03-31T00:00:00\", \"MA\": 583883, \"type\": \"unit\", \"bedrooms\": 3}, {\"saledate\": \"2014-06-30T00:00:00\", \"MA\": 583370, \"type\": \"unit\", \"bedrooms\": 3}, {\"saledate\": \"2014-09-30T00:00:00\", \"MA\": 598512, \"type\": \"unit\", \"bedrooms\": 3}, {\"saledate\": \"2014-12-31T00:00:00\", \"MA\": 598812, \"type\": \"unit\", \"bedrooms\": 3}, {\"saledate\": \"2015-03-31T00:00:00\", \"MA\": 599507, \"type\": \"unit\", \"bedrooms\": 3}, {\"saledate\": \"2015-06-30T00:00:00\", \"MA\": 602877, \"type\": \"unit\", \"bedrooms\": 3}, {\"saledate\": \"2015-09-30T00:00:00\", \"MA\": 603343, \"type\": \"unit\", \"bedrooms\": 3}, {\"saledate\": \"2015-12-31T00:00:00\", \"MA\": 612295, \"type\": \"unit\", \"bedrooms\": 3}, {\"saledate\": \"2016-03-31T00:00:00\", \"MA\": 617363, \"type\": \"unit\", \"bedrooms\": 3}, {\"saledate\": \"2016-06-30T00:00:00\", \"MA\": 622045, \"type\": \"unit\", \"bedrooms\": 3}, {\"saledate\": \"2016-09-30T00:00:00\", \"MA\": 616198, \"type\": \"unit\", \"bedrooms\": 3}, {\"saledate\": \"2016-12-31T00:00:00\", \"MA\": 610618, \"type\": \"unit\", \"bedrooms\": 3}, {\"saledate\": \"2017-03-31T00:00:00\", \"MA\": 606935, \"type\": \"unit\", \"bedrooms\": 3}, {\"saledate\": \"2017-06-30T00:00:00\", \"MA\": 605273, \"type\": \"unit\", \"bedrooms\": 3}, {\"saledate\": \"2017-09-30T00:00:00\", \"MA\": 606850, \"type\": \"unit\", \"bedrooms\": 3}, {\"saledate\": \"2017-12-31T00:00:00\", \"MA\": 604413, \"type\": \"unit\", \"bedrooms\": 3}, {\"saledate\": \"2018-03-31T00:00:00\", \"MA\": 604293, \"type\": \"unit\", \"bedrooms\": 3}, {\"saledate\": \"2018-06-30T00:00:00\", \"MA\": 603434, \"type\": \"unit\", \"bedrooms\": 3}, {\"saledate\": \"2018-09-30T00:00:00\", \"MA\": 603281, \"type\": \"unit\", \"bedrooms\": 3}, {\"saledate\": \"2018-12-31T00:00:00\", \"MA\": 601167, \"type\": \"unit\", \"bedrooms\": 3}, {\"saledate\": \"2019-03-31T00:00:00\", \"MA\": 605637, \"type\": \"unit\", \"bedrooms\": 3}, {\"saledate\": \"2019-06-30T00:00:00\", \"MA\": 599339, \"type\": \"unit\", \"bedrooms\": 3}, {\"saledate\": \"2019-09-30T00:00:00\", \"MA\": 597884, \"type\": \"unit\", \"bedrooms\": 3}]}}, {\"mode\": \"vega-lite\"});\n",
       "</script>"
      ],
      "text/plain": [
       "alt.FacetChart(...)"
      ]
     },
     "execution_count": 28,
     "metadata": {},
     "output_type": "execute_result"
    }
   ],
   "source": [
    "alt.Chart(df).mark_line().encode(\n",
    "    alt.X(\"saledate\"),\n",
    "    alt.Y(\"MA\"),\n",
    "    color=\"bedrooms:O\"\n",
    ").facet(column=\"type\")"
   ]
  },
  {
   "cell_type": "code",
   "execution_count": 55,
   "metadata": {},
   "outputs": [
    {
     "data": {
      "text/html": [
       "<div>\n",
       "<style scoped>\n",
       "    .dataframe tbody tr th:only-of-type {\n",
       "        vertical-align: middle;\n",
       "    }\n",
       "\n",
       "    .dataframe tbody tr th {\n",
       "        vertical-align: top;\n",
       "    }\n",
       "\n",
       "    .dataframe thead th {\n",
       "        text-align: right;\n",
       "    }\n",
       "</style>\n",
       "<table border=\"1\" class=\"dataframe\">\n",
       "  <thead>\n",
       "    <tr style=\"text-align: right;\">\n",
       "      <th></th>\n",
       "      <th>saledate</th>\n",
       "      <th>MA</th>\n",
       "      <th>type</th>\n",
       "      <th>bedrooms</th>\n",
       "    </tr>\n",
       "  </thead>\n",
       "  <tbody>\n",
       "    <tr>\n",
       "      <th>248</th>\n",
       "      <td>2007-06-30</td>\n",
       "      <td>368817</td>\n",
       "      <td>unit</td>\n",
       "      <td>2</td>\n",
       "    </tr>\n",
       "    <tr>\n",
       "      <th>249</th>\n",
       "      <td>2007-09-30</td>\n",
       "      <td>368817</td>\n",
       "      <td>unit</td>\n",
       "      <td>2</td>\n",
       "    </tr>\n",
       "    <tr>\n",
       "      <th>250</th>\n",
       "      <td>2007-12-31</td>\n",
       "      <td>368817</td>\n",
       "      <td>unit</td>\n",
       "      <td>2</td>\n",
       "    </tr>\n",
       "    <tr>\n",
       "      <th>251</th>\n",
       "      <td>2008-03-31</td>\n",
       "      <td>368817</td>\n",
       "      <td>unit</td>\n",
       "      <td>2</td>\n",
       "    </tr>\n",
       "    <tr>\n",
       "      <th>252</th>\n",
       "      <td>2008-06-30</td>\n",
       "      <td>373482</td>\n",
       "      <td>unit</td>\n",
       "      <td>2</td>\n",
       "    </tr>\n",
       "    <tr>\n",
       "      <th>253</th>\n",
       "      <td>2008-09-30</td>\n",
       "      <td>377481</td>\n",
       "      <td>unit</td>\n",
       "      <td>2</td>\n",
       "    </tr>\n",
       "    <tr>\n",
       "      <th>254</th>\n",
       "      <td>2008-12-31</td>\n",
       "      <td>382010</td>\n",
       "      <td>unit</td>\n",
       "      <td>2</td>\n",
       "    </tr>\n",
       "    <tr>\n",
       "      <th>255</th>\n",
       "      <td>2009-03-31</td>\n",
       "      <td>380810</td>\n",
       "      <td>unit</td>\n",
       "      <td>2</td>\n",
       "    </tr>\n",
       "    <tr>\n",
       "      <th>256</th>\n",
       "      <td>2009-06-30</td>\n",
       "      <td>385791</td>\n",
       "      <td>unit</td>\n",
       "      <td>2</td>\n",
       "    </tr>\n",
       "    <tr>\n",
       "      <th>257</th>\n",
       "      <td>2009-09-30</td>\n",
       "      <td>391161</td>\n",
       "      <td>unit</td>\n",
       "      <td>2</td>\n",
       "    </tr>\n",
       "  </tbody>\n",
       "</table>\n",
       "</div>"
      ],
      "text/plain": [
       "      saledate      MA  type  bedrooms\n",
       "248 2007-06-30  368817  unit         2\n",
       "249 2007-09-30  368817  unit         2\n",
       "250 2007-12-31  368817  unit         2\n",
       "251 2008-03-31  368817  unit         2\n",
       "252 2008-06-30  373482  unit         2\n",
       "253 2008-09-30  377481  unit         2\n",
       "254 2008-12-31  382010  unit         2\n",
       "255 2009-03-31  380810  unit         2\n",
       "256 2009-06-30  385791  unit         2\n",
       "257 2009-09-30  391161  unit         2"
      ]
     },
     "execution_count": 55,
     "metadata": {},
     "output_type": "execute_result"
    }
   ],
   "source": [
    "# \n",
    "twoBedroomhUnit =  df.query(\"bedrooms==2 and type == 'unit'\").copy()\n",
    "twoBedroomhUnit.sort_values(\"saledate\", inplace=True)\n",
    "twoBedroomhUnit.head(10)"
   ]
  },
  {
   "cell_type": "code",
   "execution_count": 93,
   "metadata": {},
   "outputs": [],
   "source": [
    "ts = pd.Series(twoBedroomhUnit[\"MA\"].values, index=twoBedroomhUnit[\"saledate\"])"
   ]
  },
  {
   "cell_type": "code",
   "execution_count": 94,
   "metadata": {},
   "outputs": [
    {
     "data": {
      "text/plain": [
       "<matplotlib.axes._subplots.AxesSubplot at 0x11ceed4d0>"
      ]
     },
     "execution_count": 94,
     "metadata": {},
     "output_type": "execute_result"
    },
    {
     "data": {
      "image/png": "[encoded data removed]",
      "text/plain": [
       "<Figure size 432x288 with 1 Axes>"
      ]
     },
     "metadata": {
      "needs_background": "light"
     },
     "output_type": "display_data"
    }
   ],
   "source": [
    "# alt.Chart(twoBedroomhUnit).mark_line().encode(\n",
    "#     x=\"saledate:O\",\n",
    "#     y=\"MA\"\n",
    "# )\n",
    "\n",
    "# alt.Chart().mark_line().encode(\n",
    "#     x=\"saledate:O\",\n",
    "#     y=\"MA\"\n",
    "# )\n",
    "rmts = ts.rolling(4,).mean()\n",
    "rmts.name = \"rolling_mean\"\n",
    "ts.name = \"ts\"\n",
    "pd.concat([ts,rmts],axis=1).plot()\n",
    "# pd.concat?"
   ]
  },
  {
   "cell_type": "code",
   "execution_count": 92,
   "metadata": {},
   "outputs": [
    {
     "data": {
      "text/plain": [
       "<function pandas.core.generic.NDFrame._add_series_or_dataframe_operations.<locals>.rolling(self, window, min_periods=None, center=False, win_type=None, on=None, axis=0, closed=None)>"
      ]
     },
     "execution_count": 92,
     "metadata": {},
     "output_type": "execute_result"
    }
   ],
   "source": [
    "pd.DataFrame.rolling"
   ]
  }
 ],
 "metadata": {
  "kernelspec": {
   "display_name": "Python 3",
   "language": "python",
   "name": "python3"
  },
  "language_info": {
   "codemirror_mode": {
    "name": "ipython",
    "version": 3
   },
   "file_extension": ".py",
   "mimetype": "text/x-python",
   "name": "python",
   "nbconvert_exporter": "python",
   "pygments_lexer": "ipython3",
   "version": "3.7.6"
  }
 },
 "nbformat": 4,
 "nbformat_minor": 4
}
