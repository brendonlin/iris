{
 "cells": [
  {
   "cell_type": "markdown",
   "metadata": {},
   "source": [
    "## Heart Disease Predict Model\n",
    "\n",
    "This model can be used to predict whether a patient has heart disease.\n",
    "\n",
    "## DataSource\n",
    "\n",
    "[Heart-disease-uci Kaggle](https://www.kaggle.com/ronitf/heart-disease-uci)\n",
    "\n",
    "## Features\n",
    "* age, age: 年龄\n",
    "* sex, sex: 性别\n",
    "* cp, chest pain type (4 values): 胸痛类型(1: 典型心绞痛, 2: 非典型心绞痛, 3: 无心绞痛, 4: 无症状)\n",
    "* trestbps, resting blood pressure: 静息血压\n",
    "* chol, serum cholestoral in mg/dl: 血清胆固醇含量 毫克/分升（10dl = 1l）\n",
    "* fbs, fasting blood sugar > 120 mg/dl:空腹血糖 > 120 mg/dl\n",
    "* restecg, resting electrocardiographic results (values 0,1,2): 静息心电图结果\n",
    "* thalac, maximum heart rate achieved: 最大心率\n",
    "* exang, exercise induced angina: 运动性心绞痛\n",
    "* oldpeak, oldpeak = ST depression induced by exercise relative to rest: 运动引起的相对静息状态的[ST段](https://en.wikipedia.org/wiki/ST_segment)压低\n",
    "* slope, the slope of the peak exercise ST segment: 最大运动时ST段的斜率\n",
    "* ca, number of major vessels (0-3) colored by flourosopy: 荧光镜透视下的主要血管数目\n",
    "* thal, thal: 3 = normal; 6 = fixed defect; 7 = de defe: 地中海贫血（3=正常；6=固定缺陷；7=可逆缺陷）\n",
    "* target: 是否患有心脏疾病 (0 = 否, 1 = 是)"
   ]
  },
  {
   "cell_type": "code",
   "execution_count": 3,
   "metadata": {},
   "outputs": [],
   "source": [
    "import pandas as pd\n",
    "\n",
    "from sklearn import tree\n",
    "from sklearn.linear_model import LogisticRegression\n",
    "from sklearn.naive_bayes import GaussianNB\n",
    "from sklearn import model_selection\n",
    "from sklearn.pipeline import Pipeline\n",
    "from matplotlib import pyplot as plt\n",
    "import altair as alt"
   ]
  },
  {
   "cell_type": "markdown",
   "metadata": {},
   "source": []
  },
  {
   "cell_type": "code",
   "execution_count": 4,
   "metadata": {},
   "outputs": [],
   "source": [
    "def getData():\n",
    "    path = \"data/heart.csv\"\n",
    "    df = pd.read_csv(path)\n",
    "    return df"
   ]
  },
  {
   "cell_type": "code",
   "execution_count": 5,
   "metadata": {},
   "outputs": [],
   "source": [
    "df = getData()\n",
    "\n",
    "featureNames = list(df.columns)\n",
    "className = \"target\"\n",
    "featureNames.remove(className)\n",
    "featureNames.remove(\"fbs\")"
   ]
  },
  {
   "cell_type": "code",
   "execution_count": 6,
   "metadata": {},
   "outputs": [
    {
     "data": {
      "text/html": [
       "<div>\n",
       "<style scoped>\n",
       "    .dataframe tbody tr th:only-of-type {\n",
       "        vertical-align: middle;\n",
       "    }\n",
       "\n",
       "    .dataframe tbody tr th {\n",
       "        vertical-align: top;\n",
       "    }\n",
       "\n",
       "    .dataframe thead th {\n",
       "        text-align: right;\n",
       "    }\n",
       "</style>\n",
       "<table border=\"1\" class=\"dataframe\">\n",
       "  <thead>\n",
       "    <tr style=\"text-align: right;\">\n",
       "      <th></th>\n",
       "      <th>age</th>\n",
       "      <th>sex</th>\n",
       "      <th>cp</th>\n",
       "      <th>trestbps</th>\n",
       "      <th>chol</th>\n",
       "      <th>fbs</th>\n",
       "      <th>restecg</th>\n",
       "      <th>thalach</th>\n",
       "      <th>exang</th>\n",
       "      <th>oldpeak</th>\n",
       "      <th>slope</th>\n",
       "      <th>ca</th>\n",
       "      <th>thal</th>\n",
       "      <th>target</th>\n",
       "    </tr>\n",
       "  </thead>\n",
       "  <tbody>\n",
       "    <tr>\n",
       "      <th>0</th>\n",
       "      <td>63</td>\n",
       "      <td>1</td>\n",
       "      <td>3</td>\n",
       "      <td>145</td>\n",
       "      <td>233</td>\n",
       "      <td>1</td>\n",
       "      <td>0</td>\n",
       "      <td>150</td>\n",
       "      <td>0</td>\n",
       "      <td>2.3</td>\n",
       "      <td>0</td>\n",
       "      <td>0</td>\n",
       "      <td>1</td>\n",
       "      <td>1</td>\n",
       "    </tr>\n",
       "    <tr>\n",
       "      <th>1</th>\n",
       "      <td>37</td>\n",
       "      <td>1</td>\n",
       "      <td>2</td>\n",
       "      <td>130</td>\n",
       "      <td>250</td>\n",
       "      <td>0</td>\n",
       "      <td>1</td>\n",
       "      <td>187</td>\n",
       "      <td>0</td>\n",
       "      <td>3.5</td>\n",
       "      <td>0</td>\n",
       "      <td>0</td>\n",
       "      <td>2</td>\n",
       "      <td>1</td>\n",
       "    </tr>\n",
       "    <tr>\n",
       "      <th>2</th>\n",
       "      <td>41</td>\n",
       "      <td>0</td>\n",
       "      <td>1</td>\n",
       "      <td>130</td>\n",
       "      <td>204</td>\n",
       "      <td>0</td>\n",
       "      <td>0</td>\n",
       "      <td>172</td>\n",
       "      <td>0</td>\n",
       "      <td>1.4</td>\n",
       "      <td>2</td>\n",
       "      <td>0</td>\n",
       "      <td>2</td>\n",
       "      <td>1</td>\n",
       "    </tr>\n",
       "    <tr>\n",
       "      <th>3</th>\n",
       "      <td>56</td>\n",
       "      <td>1</td>\n",
       "      <td>1</td>\n",
       "      <td>120</td>\n",
       "      <td>236</td>\n",
       "      <td>0</td>\n",
       "      <td>1</td>\n",
       "      <td>178</td>\n",
       "      <td>0</td>\n",
       "      <td>0.8</td>\n",
       "      <td>2</td>\n",
       "      <td>0</td>\n",
       "      <td>2</td>\n",
       "      <td>1</td>\n",
       "    </tr>\n",
       "    <tr>\n",
       "      <th>4</th>\n",
       "      <td>57</td>\n",
       "      <td>0</td>\n",
       "      <td>0</td>\n",
       "      <td>120</td>\n",
       "      <td>354</td>\n",
       "      <td>0</td>\n",
       "      <td>1</td>\n",
       "      <td>163</td>\n",
       "      <td>1</td>\n",
       "      <td>0.6</td>\n",
       "      <td>2</td>\n",
       "      <td>0</td>\n",
       "      <td>2</td>\n",
       "      <td>1</td>\n",
       "    </tr>\n",
       "    <tr>\n",
       "      <th>...</th>\n",
       "      <td>...</td>\n",
       "      <td>...</td>\n",
       "      <td>...</td>\n",
       "      <td>...</td>\n",
       "      <td>...</td>\n",
       "      <td>...</td>\n",
       "      <td>...</td>\n",
       "      <td>...</td>\n",
       "      <td>...</td>\n",
       "      <td>...</td>\n",
       "      <td>...</td>\n",
       "      <td>...</td>\n",
       "      <td>...</td>\n",
       "      <td>...</td>\n",
       "    </tr>\n",
       "    <tr>\n",
       "      <th>298</th>\n",
       "      <td>57</td>\n",
       "      <td>0</td>\n",
       "      <td>0</td>\n",
       "      <td>140</td>\n",
       "      <td>241</td>\n",
       "      <td>0</td>\n",
       "      <td>1</td>\n",
       "      <td>123</td>\n",
       "      <td>1</td>\n",
       "      <td>0.2</td>\n",
       "      <td>1</td>\n",
       "      <td>0</td>\n",
       "      <td>3</td>\n",
       "      <td>0</td>\n",
       "    </tr>\n",
       "    <tr>\n",
       "      <th>299</th>\n",
       "      <td>45</td>\n",
       "      <td>1</td>\n",
       "      <td>3</td>\n",
       "      <td>110</td>\n",
       "      <td>264</td>\n",
       "      <td>0</td>\n",
       "      <td>1</td>\n",
       "      <td>132</td>\n",
       "      <td>0</td>\n",
       "      <td>1.2</td>\n",
       "      <td>1</td>\n",
       "      <td>0</td>\n",
       "      <td>3</td>\n",
       "      <td>0</td>\n",
       "    </tr>\n",
       "    <tr>\n",
       "      <th>300</th>\n",
       "      <td>68</td>\n",
       "      <td>1</td>\n",
       "      <td>0</td>\n",
       "      <td>144</td>\n",
       "      <td>193</td>\n",
       "      <td>1</td>\n",
       "      <td>1</td>\n",
       "      <td>141</td>\n",
       "      <td>0</td>\n",
       "      <td>3.4</td>\n",
       "      <td>1</td>\n",
       "      <td>2</td>\n",
       "      <td>3</td>\n",
       "      <td>0</td>\n",
       "    </tr>\n",
       "    <tr>\n",
       "      <th>301</th>\n",
       "      <td>57</td>\n",
       "      <td>1</td>\n",
       "      <td>0</td>\n",
       "      <td>130</td>\n",
       "      <td>131</td>\n",
       "      <td>0</td>\n",
       "      <td>1</td>\n",
       "      <td>115</td>\n",
       "      <td>1</td>\n",
       "      <td>1.2</td>\n",
       "      <td>1</td>\n",
       "      <td>1</td>\n",
       "      <td>3</td>\n",
       "      <td>0</td>\n",
       "    </tr>\n",
       "    <tr>\n",
       "      <th>302</th>\n",
       "      <td>57</td>\n",
       "      <td>0</td>\n",
       "      <td>1</td>\n",
       "      <td>130</td>\n",
       "      <td>236</td>\n",
       "      <td>0</td>\n",
       "      <td>0</td>\n",
       "      <td>174</td>\n",
       "      <td>0</td>\n",
       "      <td>0.0</td>\n",
       "      <td>1</td>\n",
       "      <td>1</td>\n",
       "      <td>2</td>\n",
       "      <td>0</td>\n",
       "    </tr>\n",
       "  </tbody>\n",
       "</table>\n",
       "<p>303 rows × 14 columns</p>\n",
       "</div>"
      ],
      "text/plain": [
       "     age  sex  cp  trestbps  chol  fbs  restecg  thalach  exang  oldpeak  \\\n",
       "0     63    1   3       145   233    1        0      150      0      2.3   \n",
       "1     37    1   2       130   250    0        1      187      0      3.5   \n",
       "2     41    0   1       130   204    0        0      172      0      1.4   \n",
       "3     56    1   1       120   236    0        1      178      0      0.8   \n",
       "4     57    0   0       120   354    0        1      163      1      0.6   \n",
       "..   ...  ...  ..       ...   ...  ...      ...      ...    ...      ...   \n",
       "298   57    0   0       140   241    0        1      123      1      0.2   \n",
       "299   45    1   3       110   264    0        1      132      0      1.2   \n",
       "300   68    1   0       144   193    1        1      141      0      3.4   \n",
       "301   57    1   0       130   131    0        1      115      1      1.2   \n",
       "302   57    0   1       130   236    0        0      174      0      0.0   \n",
       "\n",
       "     slope  ca  thal  target  \n",
       "0        0   0     1       1  \n",
       "1        0   0     2       1  \n",
       "2        2   0     2       1  \n",
       "3        2   0     2       1  \n",
       "4        2   0     2       1  \n",
       "..     ...  ..   ...     ...  \n",
       "298      1   0     3       0  \n",
       "299      1   0     3       0  \n",
       "300      1   2     3       0  \n",
       "301      1   1     3       0  \n",
       "302      1   1     2       0  \n",
       "\n",
       "[303 rows x 14 columns]"
      ]
     },
     "execution_count": 6,
     "metadata": {},
     "output_type": "execute_result"
    }
   ],
   "source": [
    "df"
   ]
  },
  {
   "cell_type": "code",
   "execution_count": 7,
   "metadata": {},
   "outputs": [],
   "source": [
    "Xdata = df[featureNames]\n",
    "ydata = df[className]\n",
    "\n",
    "X = Xdata.values\n",
    "y = ydata.values.flatten()\n",
    "\n",
    "# r:train, t:test, v:valiad\n",
    "\n",
    "rx,tx,ry,ty = model_selection.train_test_split(X,y,test_size=0.2)\n",
    "# xv,xt,yv,yt = model_selection.train_test_split(X,y,test_size=0.5)\n"
   ]
  },
  {
   "cell_type": "code",
   "execution_count": 8,
   "metadata": {},
   "outputs": [
    {
     "name": "stdout",
     "output_type": "stream",
     "text": [
      "mean_test_score:[0.86, 0.87, 0.87, 0.87]\n",
      "std_test_score:[0.05, 0.04, 0.05, 0.04]\n",
      "rank_test_score:[4, 2, 1, 2]\n",
      "{'model__penalty': 'l2', 'norm': ColumnTransformer(n_jobs=None, remainder='drop', sparse_threshold=0.3,\n",
      "                  transformer_weights=None,\n",
      "                  transformers=[('norm',\n",
      "                                 StandardScaler(copy=True, with_mean=True,\n",
      "                                                with_std=True),\n",
      "                                 [0, 1, 3, 4, 5, 6, 7, 8, 9, 10]),\n",
      "                                ('cate',\n",
      "                                 OneHotEncoder(categories='auto', drop=None,\n",
      "                                               dtype=<class 'numpy.float64'>,\n",
      "                                               handle_unknown='error',\n",
      "                                               sparse=True),\n",
      "                                 [2, 11])],\n",
      "                  verbose=False)}\n",
      "Baseline Score:0.87 +/-0.04\n"
     ]
    }
   ],
   "source": [
    "\n",
    "from sklearn import preprocessing\n",
    "from sklearn.compose import ColumnTransformer\n",
    "from sklearn import metrics\n",
    "\n",
    "# model = tree.DecisionTreeClassifier(max_leaf_nodes=10)\n",
    "# model = GaussianNB()\n",
    "# model = LogisticRegression(max_iter=3000)\n",
    "\n",
    "def getFindex(arr, inverse=False):\n",
    "    if inverse:\n",
    "        return [featureNames.index(x) for x in featureNames if x not in arr]\n",
    "    else:\n",
    "        return [featureNames.index(x) for x in arr]\n",
    "\n",
    "\n",
    "ct = ColumnTransformer(\n",
    "[\n",
    "    (\"norm\", preprocessing.StandardScaler(), getFindex([\"cp\", \"thal\"],inverse=True)),\n",
    "    (\"cate\", preprocessing.OneHotEncoder(), getFindex([\"cp\", \"thal\"])),\n",
    "])\n",
    "\n",
    "pipe = Pipeline(\n",
    "    [\n",
    "        (\"norm\", preprocessing.StandardScaler()),\n",
    "        (\"model\", LogisticRegression(max_iter=3000, penalty=\"l1\", solver=\"liblinear\"))\n",
    "    ]\n",
    ")\n",
    "\n",
    "paramGrid = {\n",
    "    \"norm\":[ct, preprocessing.StandardScaler()],\n",
    "    \"model__penalty\":[\"l1\",\"l2\"]\n",
    "}\n",
    "\n",
    "gscv = model_selection.GridSearchCV(pipe, paramGrid, cv=5, scoring=\"f1\")\n",
    "gscv.fit(rx, ry)\n",
    "\n",
    "for key in ['mean_test_score','std_test_score','rank_test_score']:\n",
    "    print(f\"{key}:{[round(x,2) for x in gscv.cv_results_[key]]}\")\n",
    "print(gscv.best_params_)\n",
    "\n",
    "\n",
    "# pipe.set_params(norm=preprocessing.StandardScaler())\n",
    "scores = model_selection.cross_val_score(pipe, rx, ry, cv=5, scoring=\"f1\")\n",
    "scoreMean,scoreStd = scores.mean(),scores.std()\n",
    "print(f\"Baseline Score:{scoreMean:.2f} +/-{scoreStd*1:.2f}\")"
   ]
  },
  {
   "cell_type": "code",
   "execution_count": 9,
   "metadata": {},
   "outputs": [
    {
     "data": {
      "text/plain": [
       "[0, 1, 3, 4, 5, 6, 7, 8, 9, 10]"
      ]
     },
     "execution_count": 9,
     "metadata": {},
     "output_type": "execute_result"
    }
   ],
   "source": [
    "getFindex([\"cp\", \"thal\"],inverse=True)"
   ]
  },
  {
   "cell_type": "code",
   "execution_count": 10,
   "metadata": {},
   "outputs": [
    {
     "name": "stdout",
     "output_type": "stream",
     "text": [
      "              precision    recall  f1-score   support\n",
      "\n",
      "           0       0.83      0.71      0.77        35\n",
      "           1       0.68      0.81      0.74        26\n",
      "\n",
      "    accuracy                           0.75        61\n",
      "   macro avg       0.76      0.76      0.75        61\n",
      "weighted avg       0.77      0.75      0.76        61\n",
      "\n"
     ]
    }
   ],
   "source": [
    "pipe.fit(rx,ry)\n",
    "print(metrics.classification_report(pipe.predict(tx), ty))"
   ]
  },
  {
   "cell_type": "markdown",
   "metadata": {},
   "source": [
    "## Feature Plot"
   ]
  },
  {
   "cell_type": "code",
   "execution_count": 11,
   "metadata": {},
   "outputs": [
    {
     "data": {
      "text/plain": [
       "18"
      ]
     },
     "execution_count": 11,
     "metadata": {},
     "output_type": "execute_result"
    }
   ],
   "source": [
    "\n",
    "\n",
    "import numpy as np\n",
    "newRx = ct.fit_transform(rx)\n",
    "corr = [np.corrcoef(newRx[:,col], ry)[0,1] for col in range(newRx.shape[1])]\n",
    "# ct.categories_\n",
    "# ct.get_feature_names()\n",
    "newFeatureNames = [x for x in featureNames if x not in [\"cp\", \"thal\"]] + list(ct.named_transformers_[\"cate\"].get_feature_names([\"cp\", \"thal\"]))\n",
    "len(corr)\n",
    "len(newFeatureNames)"
   ]
  },
  {
   "cell_type": "code",
   "execution_count": 12,
   "metadata": {},
   "outputs": [
    {
     "data": {
      "text/html": [
       "\n",
       "<div id=\"altair-viz-4ad6aceaf73d42668ba83f0c50568819\"></div>\n",
       "<script type=\"text/javascript\">\n",
       "  (function(spec, embedOpt){\n",
       "    const outputDiv = document.getElementById(\"altair-viz-4ad6aceaf73d42668ba83f0c50568819\");\n",
       "    const paths = {\n",
       "      \"vega\": \"https://cdn.jsdelivr.net/npm//vega@5?noext\",\n",
       "      \"vega-lib\": \"https://cdn.jsdelivr.net/npm//vega-lib?noext\",\n",
       "      \"vega-lite\": \"https://cdn.jsdelivr.net/npm//vega-lite@4.0.2?noext\",\n",
       "      \"vega-embed\": \"https://cdn.jsdelivr.net/npm//vega-embed@6?noext\",\n",
       "    };\n",
       "\n",
       "    function loadScript(lib) {\n",
       "      return new Promise(function(resolve, reject) {\n",
       "        var s = document.createElement('script');\n",
       "        s.src = paths[lib];\n",
       "        s.async = true;\n",
       "        s.onload = () => resolve(paths[lib]);\n",
       "        s.onerror = () => reject(`Error loading script: ${paths[lib]}`);\n",
       "        document.getElementsByTagName(\"head\")[0].appendChild(s);\n",
       "      });\n",
       "    }\n",
       "\n",
       "    function showError(err) {\n",
       "      outputDiv.innerHTML = `<div class=\"error\" style=\"color:red;\">${err}</div>`;\n",
       "      throw err;\n",
       "    }\n",
       "\n",
       "    function displayChart(vegaEmbed) {\n",
       "      vegaEmbed(outputDiv, spec, embedOpt)\n",
       "        .catch(err => showError(`Javascript Error: ${err.message}<br>This usually means there's a typo in your chart specification. See the javascript console for the full traceback.`));\n",
       "    }\n",
       "\n",
       "    if(typeof define === \"function\" && define.amd) {\n",
       "      requirejs.config({paths});\n",
       "      require([\"vega-embed\"], displayChart, err => showError(`Error loading script: ${err.message}`));\n",
       "    } else if (typeof vegaEmbed === \"function\") {\n",
       "      displayChart(vegaEmbed);\n",
       "    } else {\n",
       "      loadScript(\"vega\")\n",
       "        .then(() => loadScript(\"vega-lite\"))\n",
       "        .then(() => loadScript(\"vega-embed\"))\n",
       "        .catch(showError)\n",
       "        .then(() => displayChart(vegaEmbed));\n",
       "    }\n",
       "  })({\"config\": {\"view\": {\"continuousWidth\": 400, \"continuousHeight\": 300}}, \"data\": {\"name\": \"data-6925a2802adbb7a7283c34d35b8fe76a\"}, \"mark\": \"bar\", \"encoding\": {\"tooltip\": {\"type\": \"quantitative\", \"field\": \"corr\"}, \"x\": {\"type\": \"quantitative\", \"field\": \"corr\"}, \"y\": {\"type\": \"ordinal\", \"field\": \"feature\", \"sort\": null}}, \"$schema\": \"https://vega.github.io/schema/vega-lite/v4.0.2.json\", \"datasets\": {\"data-6925a2802adbb7a7283c34d35b8fe76a\": [{\"corr\": -0.19967920491612806, \"feature\": \"age\"}, {\"corr\": -0.29204083016228494, \"feature\": \"sex\"}, {\"corr\": -0.06144052093346922, \"feature\": \"trestbps\"}, {\"corr\": -0.09250748845787576, \"feature\": \"chol\"}, {\"corr\": 0.1538331470121386, \"feature\": \"restecg\"}, {\"corr\": 0.4108754410239508, \"feature\": \"thalach\"}, {\"corr\": -0.4423015095435945, \"feature\": \"exang\"}, {\"corr\": -0.41467954103211535, \"feature\": \"oldpeak\"}, {\"corr\": 0.3426210741501872, \"feature\": \"slope\"}, {\"corr\": -0.4493214040230878, \"feature\": \"ca\"}, {\"corr\": -0.5326994055904499, \"feature\": \"cp_0.0\"}, {\"corr\": 0.22923732515404457, \"feature\": \"cp_1.0\"}, {\"corr\": 0.3257851849501479, \"feature\": \"cp_2.0\"}, {\"corr\": 0.11040405212838962, \"feature\": \"cp_3.0\"}, {\"corr\": -0.00986480380723063, \"feature\": \"thal_0.0\"}, {\"corr\": -0.11396386036818767, \"feature\": \"thal_1.0\"}, {\"corr\": 0.5317855168601434, \"feature\": \"thal_2.0\"}, {\"corr\": -0.487173089081676, \"feature\": \"thal_3.0\"}]}}, {\"mode\": \"vega-lite\"});\n",
       "</script>"
      ],
      "text/plain": [
       "alt.Chart(...)"
      ]
     },
     "execution_count": 12,
     "metadata": {},
     "output_type": "execute_result"
    }
   ],
   "source": [
    "statdf = pd.DataFrame({\"corr\":corr,\"feature\":newFeatureNames})\n",
    "statdf\n",
    "\n",
    "alt.Chart(statdf).mark_bar().encode(\n",
    "    alt.Y(\"feature:O\",sort=None),\n",
    "    alt.X(\"corr:Q\"),\n",
    "    tooltip=\"corr:Q\"\n",
    ")"
   ]
  },
  {
   "cell_type": "code",
   "execution_count": 13,
   "metadata": {},
   "outputs": [
    {
     "data": {
      "image/png": "[encoded data removed]",
      "text/plain": [
       "<Figure size 1440x720 with 20 Axes>"
      ]
     },
     "metadata": {
      "needs_background": "light"
     },
     "output_type": "display_data"
    }
   ],
   "source": [
    "# plt.figure(figsize=(20,5))\n",
    "axes = pd.DataFrame(newRx,columns=newFeatureNames).hist(figsize=(20,10))\n",
    "plt.tight_layout()"
   ]
  },
  {
   "cell_type": "code",
   "execution_count": 14,
   "metadata": {},
   "outputs": [
    {
     "data": {
      "text/html": [
       "\n",
       "<div id=\"altair-viz-36b500cf1cf2442f83b299a21a00adc2\"></div>\n",
       "<script type=\"text/javascript\">\n",
       "  (function(spec, embedOpt){\n",
       "    const outputDiv = document.getElementById(\"altair-viz-36b500cf1cf2442f83b299a21a00adc2\");\n",
       "    const paths = {\n",
       "      \"vega\": \"https://cdn.jsdelivr.net/npm//vega@5?noext\",\n",
       "      \"vega-lib\": \"https://cdn.jsdelivr.net/npm//vega-lib?noext\",\n",
       "      \"vega-lite\": \"https://cdn.jsdelivr.net/npm//vega-lite@4.0.2?noext\",\n",
       "      \"vega-embed\": \"https://cdn.jsdelivr.net/npm//vega-embed@6?noext\",\n",
       "    };\n",
       "\n",
       "    function loadScript(lib) {\n",
       "      return new Promise(function(resolve, reject) {\n",
       "        var s = document.createElement('script');\n",
       "        s.src = paths[lib];\n",
       "        s.async = true;\n",
       "        s.onload = () => resolve(paths[lib]);\n",
       "        s.onerror = () => reject(`Error loading script: ${paths[lib]}`);\n",
       "        document.getElementsByTagName(\"head\")[0].appendChild(s);\n",
       "      });\n",
       "    }\n",
       "\n",
       "    function showError(err) {\n",
       "      outputDiv.innerHTML = `<div class=\"error\" style=\"color:red;\">${err}</div>`;\n",
       "      throw err;\n",
       "    }\n",
       "\n",
       "    function displayChart(vegaEmbed) {\n",
       "      vegaEmbed(outputDiv, spec, embedOpt)\n",
       "        .catch(err => showError(`Javascript Error: ${err.message}<br>This usually means there's a typo in your chart specification. See the javascript console for the full traceback.`));\n",
       "    }\n",
       "\n",
       "    if(typeof define === \"function\" && define.amd) {\n",
       "      requirejs.config({paths});\n",
       "      require([\"vega-embed\"], displayChart, err => showError(`Error loading script: ${err.message}`));\n",
       "    } else if (typeof vegaEmbed === \"function\") {\n",
       "      displayChart(vegaEmbed);\n",
       "    } else {\n",
       "      loadScript(\"vega\")\n",
       "        .then(() => loadScript(\"vega-lite\"))\n",
       "        .then(() => loadScript(\"vega-embed\"))\n",
       "        .catch(showError)\n",
       "        .then(() => displayChart(vegaEmbed));\n",
       "    }\n",
       "  })({\"config\": {\"view\": {\"continuousWidth\": 400, \"continuousHeight\": 300}}, \"data\": {\"name\": \"data-ecd66ef1d42913f58291289638bbc8e9\"}, \"facet\": {\"column\": {\"type\": \"nominal\", \"field\": \"feature\"}}, \"spec\": {\"mark\": \"bar\", \"encoding\": {\"x\": {\"type\": \"ordinal\", \"field\": \"target\"}, \"y\": {\"type\": \"quantitative\", \"field\": \"value\"}}}, \"$schema\": \"https://vega.github.io/schema/vega-lite/v4.0.2.json\", \"datasets\": {\"data-ecd66ef1d42913f58291289638bbc8e9\": [{\"target\": 0, \"feature\": \"age\", \"value\": 0.22241975609559844}, {\"target\": 0, \"feature\": \"sex\", \"value\": 0.32530002431617755}, {\"target\": 0, \"feature\": \"trestbps\", \"value\": 0.06843770079187142}, {\"target\": 0, \"feature\": \"chol\", \"value\": 0.10304274312620325}, {\"target\": 0, \"feature\": \"restecg\", \"value\": -0.1713525003879594}, {\"target\": 0, \"feature\": \"thalach\", \"value\": -0.4576681653785836}, {\"target\": 0, \"feature\": \"exang\", \"value\": 0.4926732050777296}, {\"target\": 0, \"feature\": \"oldpeak\", \"value\": 0.46190549693413935}, {\"target\": 0, \"feature\": \"slope\", \"value\": -0.38164062090344225}, {\"target\": 0, \"feature\": \"ca\", \"value\": 0.5004925632257221}, {\"target\": 0, \"feature\": \"cp_0.0\", \"value\": 0.75}, {\"target\": 0, \"feature\": \"cp_1.0\", \"value\": 0.08333333333333333}, {\"target\": 0, \"feature\": \"cp_2.0\", \"value\": 0.1111111111111111}, {\"target\": 0, \"feature\": \"cp_3.0\", \"value\": 0.05555555555555555}, {\"target\": 0, \"feature\": \"thal_0.0\", \"value\": 0.009259259259259259}, {\"target\": 0, \"feature\": \"thal_1.0\", \"value\": 0.09259259259259259}, {\"target\": 0, \"feature\": \"thal_2.0\", \"value\": 0.25925925925925924}, {\"target\": 0, \"feature\": \"thal_3.0\", \"value\": 0.6388888888888888}, {\"target\": 1, \"feature\": \"age\", \"value\": -0.1792636840173482}, {\"target\": 1, \"feature\": \"sex\", \"value\": -0.26218210915035217}, {\"target\": 1, \"feature\": \"trestbps\", \"value\": -0.055158743921806516}, {\"target\": 1, \"feature\": \"chol\", \"value\": -0.08304937505694009}, {\"target\": 1, \"feature\": \"restecg\", \"value\": 0.13810500031268366}, {\"target\": 1, \"feature\": \"thalach\", \"value\": 0.368866879558858}, {\"target\": 1, \"feature\": \"exang\", \"value\": -0.397079896629812}, {\"target\": 1, \"feature\": \"oldpeak\", \"value\": -0.37228204230512724}, {\"target\": 1, \"feature\": \"slope\", \"value\": 0.3075909481908334}, {\"target\": 1, \"feature\": \"ca\", \"value\": -0.4033820658834192}, {\"target\": 1, \"feature\": \"cp_0.0\", \"value\": 0.21641791044776118}, {\"target\": 1, \"feature\": \"cp_1.0\", \"value\": 0.26119402985074625}, {\"target\": 1, \"feature\": \"cp_2.0\", \"value\": 0.40298507462686567}, {\"target\": 1, \"feature\": \"cp_3.0\", \"value\": 0.11940298507462686}, {\"target\": 1, \"feature\": \"thal_0.0\", \"value\": 0.007462686567164179}, {\"target\": 1, \"feature\": \"thal_1.0\", \"value\": 0.03731343283582089}, {\"target\": 1, \"feature\": \"thal_2.0\", \"value\": 0.7910447761194029}, {\"target\": 1, \"feature\": \"thal_3.0\", \"value\": 0.16417910447761194}]}}, {\"mode\": \"vega-lite\"});\n",
       "</script>"
      ],
      "text/plain": [
       "alt.FacetChart(...)"
      ]
     },
     "execution_count": 14,
     "metadata": {},
     "output_type": "execute_result"
    }
   ],
   "source": [
    "groupMean = pd.DataFrame(newRx,columns=newFeatureNames).groupby(ry).mean().stack().reset_index()\n",
    "groupMean.columns = [\"target\", \"feature\", \"value\"]\n",
    "alt.Chart(groupMean).mark_bar().encode(\n",
    "    x = \"target:O\",\n",
    "    y = \"value\",\n",
    ").facet(\n",
    "    column=\"feature\"\n",
    ")"
   ]
  },
  {
   "cell_type": "code",
   "execution_count": null,
   "metadata": {},
   "outputs": [],
   "source": []
  },
  {
   "cell_type": "code",
   "execution_count": 15,
   "metadata": {},
   "outputs": [],
   "source": [
    "# groupMean = df.groupby(\"target\").mean().stack().reset_index()\n",
    "# groupMean.columns=[\"target\",\"feature\",\"mean\"]\n",
    "\n",
    "# table = df[featureNames].corrwith(df[\"target\"]).reset_index()\n",
    "# table.columns = [\"feature\",\"corrleation\"]\n",
    "# table = table.reset_index().round(2)"
   ]
  },
  {
   "cell_type": "code",
   "execution_count": 16,
   "metadata": {},
   "outputs": [],
   "source": [
    "# meanChart = alt.Chart(groupMean).mark_bar().encode(\n",
    "#     alt.Y(\"feature:N\",sort=None),\n",
    "#     alt.X(\"mean:Q\",stack=\"normalize\"),\n",
    "#     color=\"target:N\"\n",
    "# ).properties(title=\"Mean Comparison between Targets\")"
   ]
  },
  {
   "cell_type": "code",
   "execution_count": 17,
   "metadata": {},
   "outputs": [],
   "source": [
    "# corrChart = alt.Chart(table).mark_bar().encode(\n",
    "#     alt.Y(\"feature:N\",sort=None),\n",
    "#     alt.X(\"corrleation:Q\"), \n",
    "#     tooltip=\"corrleation:N\",\n",
    "#     color=alt.condition(alt.datum.corrleation > 0,alt.value('skyblue'), alt.value('lightgray'))\n",
    "# ).properties(title=\"Corrleation with Target\")\n",
    "# alt.concat(meanChart,corrChart).resolve_legend(color=\"independent\")"
   ]
  },
  {
   "cell_type": "markdown",
   "metadata": {},
   "source": [
    "## Train model"
   ]
  },
  {
   "cell_type": "code",
   "execution_count": null,
   "metadata": {},
   "outputs": [],
   "source": [
    "\n"
   ]
  },
  {
   "cell_type": "code",
   "execution_count": null,
   "metadata": {},
   "outputs": [],
   "source": []
  },
  {
   "cell_type": "code",
   "execution_count": null,
   "metadata": {},
   "outputs": [],
   "source": []
  },
  {
   "cell_type": "code",
   "execution_count": 18,
   "metadata": {},
   "outputs": [],
   "source": [
    "# ypredict = model.predict(Xtest)\n",
    "# crossTabel = pd.crosstab(ytest, ypredict, rownames=[\"Actual\"], colnames=[\"predict\"])\n",
    "# crossTabel"
   ]
  },
  {
   "cell_type": "code",
   "execution_count": 19,
   "metadata": {},
   "outputs": [],
   "source": [
    "# from sklearn import model_selection\n",
    "\n",
    "# scores = model_selection.cross_validate(model, X, y, cv=5, scoring='roc_auc')\n",
    "# scoreMean,scoreStd = scores[\"test_score\"].mean(),scores[\"test_score\"].std()\n",
    "# print(f\"Score:{scoreMean:.2f} +-{scoreStd*1:.2f}\")"
   ]
  },
  {
   "cell_type": "code",
   "execution_count": 20,
   "metadata": {},
   "outputs": [],
   "source": [
    "# model.coef_"
   ]
  },
  {
   "cell_type": "code",
   "execution_count": 21,
   "metadata": {},
   "outputs": [],
   "source": [
    "# plt.figure(figsize=(15,15))\n",
    "# annotations = tree.plot_tree(model, feature_names=featureNames, class_names=[\"health\", \"weak\"], filled=True, rounded=True)"
   ]
  }
 ],
 "metadata": {
  "kernelspec": {
   "display_name": "Python 3",
   "language": "python",
   "name": "python3"
  },
  "language_info": {
   "codemirror_mode": {
    "name": "ipython",
    "version": 3
   },
   "file_extension": ".py",
   "mimetype": "text/x-python",
   "name": "python",
   "nbconvert_exporter": "python",
   "pygments_lexer": "ipython3",
   "version": "3.7.6"
  }
 },
 "nbformat": 4,
 "nbformat_minor": 4
}
